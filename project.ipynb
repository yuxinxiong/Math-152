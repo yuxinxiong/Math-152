{
  "nbformat": 4,
  "nbformat_minor": 0,
  "metadata": {
    "colab": {
      "provenance": [],
      "authorship_tag": "ABX9TyOIeBLKjjfOGFQo9VL7wUKG",
      "include_colab_link": true
    },
    "kernelspec": {
      "name": "python3",
      "display_name": "Python 3"
    },
    "language_info": {
      "name": "python"
    }
  },
  "cells": [
    {
      "cell_type": "markdown",
      "metadata": {
        "id": "view-in-github",
        "colab_type": "text"
      },
      "source": [
        "<a href=\"https://colab.research.google.com/github/yuxinxiong/Math-152/blob/main/project.ipynb\" target=\"_parent\"><img src=\"https://colab.research.google.com/assets/colab-badge.svg\" alt=\"Open In Colab\"/></a>"
      ]
    },
    {
      "cell_type": "code",
      "execution_count": 3,
      "metadata": {
        "colab": {
          "base_uri": "https://localhost:8080/"
        },
        "id": "e7V4Jzpn_vea",
        "outputId": "6c60170d-6264-4a97-b676-b023665ebbea"
      },
      "outputs": [
        {
          "output_type": "execute_result",
          "data": {
            "text/plain": [
              "[3, 10, 5, 16, 8, 4, 2, 1]"
            ]
          },
          "metadata": {},
          "execution_count": 3
        }
      ],
      "source": [
        "#1\n",
        "def collatz(n):\n",
        "    sequence = [n]\n",
        "    while n != 1:\n",
        "        if n % 2 == 0:\n",
        "            n = n // 2\n",
        "        else:\n",
        "            n = 3 * n + 1\n",
        "        sequence+=[n]\n",
        "    return sequence\n",
        "collatz(3)\n"
      ]
    },
    {
      "cell_type": "code",
      "source": [
        "#2\n",
        "def steps_collatz(n):\n",
        "    steps=0\n",
        "    sequence = [n]\n",
        "    i=n\n",
        "    while n >=i:\n",
        "        if n % 2 == 0:\n",
        "            n = n // 2\n",
        "        else:\n",
        "            n = 3 * n + 1\n",
        "        steps+=1\n",
        "        sequence+=[n]\n",
        "    print(\"dropping time of {} is {}.\".format(i,steps))\n",
        "    return sequence\n",
        "steps_collatz(3)"
      ],
      "metadata": {
        "colab": {
          "base_uri": "https://localhost:8080/"
        },
        "id": "xtisT3Ou_7kt",
        "outputId": "0ff49240-a837-442b-c2c1-75ecb23c70c9"
      },
      "execution_count": 45,
      "outputs": [
        {
          "output_type": "stream",
          "name": "stdout",
          "text": [
            "dropping time of 3 is 6.\n"
          ]
        },
        {
          "output_type": "execute_result",
          "data": {
            "text/plain": [
              "[3, 10, 5, 16, 8, 4, 2]"
            ]
          },
          "metadata": {},
          "execution_count": 45
        }
      ]
    },
    {
      "cell_type": "code",
      "source": [
        "#3\n",
        "def verify_collatz(n):\n",
        "    for i in range(1, n + 1):\n",
        "        sequence = collatz(n)\n",
        "        if sequence[-3:] != [4, 2, 1]:\n",
        "            return False\n",
        "    return True\n",
        "verify_collatz(100)"
      ],
      "metadata": {
        "colab": {
          "base_uri": "https://localhost:8080/"
        },
        "id": "n776HTFMB5-8",
        "outputId": "4aa475f3-2f28-4774-fea5-d4f7cc57c4a0"
      },
      "execution_count": 36,
      "outputs": [
        {
          "output_type": "execute_result",
          "data": {
            "text/plain": [
              "True"
            ]
          },
          "metadata": {},
          "execution_count": 36
        }
      ]
    },
    {
      "cell_type": "code",
      "source": [
        "#4\n",
        "# Even numbers' dropping time always be 1. \n",
        "# Dropping time of 1 is 0 since 1 is the endpoint of the sequence. \n",
        "# Dropping time of most odd numbers increase as odd numbers increase."
      ],
      "metadata": {
        "id": "81tCKEyTHMmi"
      },
      "execution_count": null,
      "outputs": []
    },
    {
      "cell_type": "code",
      "source": [
        "#5\n",
        "def negative_collatz(n):\n",
        "    sequence = [n]\n",
        "    while n != -1:\n",
        "        if n % 2 == 0:\n",
        "            n = n // 2\n",
        "        else:\n",
        "            n = 3 * n + 1\n",
        "        sequence+=[n]\n",
        "    return sequence\n",
        "negative_collatz(-1)"
      ],
      "metadata": {
        "colab": {
          "base_uri": "https://localhost:8080/"
        },
        "id": "Ruuvtlu3JnGC",
        "outputId": "44ef8b2d-1a73-4ba4-8ae0-9dc945c8db86"
      },
      "execution_count": 4,
      "outputs": [
        {
          "output_type": "execute_result",
          "data": {
            "text/plain": [
              "[-1]"
            ]
          },
          "metadata": {},
          "execution_count": 4
        }
      ]
    },
    {
      "cell_type": "code",
      "source": [],
      "metadata": {
        "id": "mvL0a3J6KKX5"
      },
      "execution_count": null,
      "outputs": []
    }
  ]
}